{
 "cells": [
  {
   "cell_type": "code",
   "execution_count": 33,
   "metadata": {},
   "outputs": [],
   "source": [
    "import os\n"
   ]
  },
  {
   "cell_type": "code",
   "execution_count": 34,
   "metadata": {},
   "outputs": [
    {
     "data": {
      "text/plain": [
       "'/config/workspace/visa-prediction'"
      ]
     },
     "execution_count": 34,
     "metadata": {},
     "output_type": "execute_result"
    }
   ],
   "source": [
    "%pwd"
   ]
  },
  {
   "cell_type": "code",
   "execution_count": 35,
   "metadata": {},
   "outputs": [],
   "source": [
    "os.chdir('../')"
   ]
  },
  {
   "cell_type": "code",
   "execution_count": 36,
   "metadata": {},
   "outputs": [
    {
     "data": {
      "text/plain": [
       "'/config/workspace'"
      ]
     },
     "execution_count": 36,
     "metadata": {},
     "output_type": "execute_result"
    }
   ],
   "source": [
    "pwd"
   ]
  },
  {
   "cell_type": "code",
   "execution_count": 37,
   "metadata": {},
   "outputs": [],
   "source": [
    "import os\n",
    "import sys\n",
    "\n",
    "from visa.logger import logging\n",
    "from visa.exception import VisaException\n",
    "\n",
    "from visa.constants import DATABASE_NAME, MONGODB_URL_KEY\n",
    "\n",
    "import pymongo\n",
    "import certifi"
   ]
  },
  {
   "cell_type": "code",
   "execution_count": 38,
   "metadata": {},
   "outputs": [
    {
     "data": {
      "text/plain": [
       "False"
      ]
     },
     "execution_count": 38,
     "metadata": {},
     "output_type": "execute_result"
    }
   ],
   "source": [
    "from dotenv import load_dotenv\n",
    "load_dotenv()\n",
    "\n",
    "# os.getenv(MONGODB_URL_KEY)"
   ]
  },
  {
   "cell_type": "code",
   "execution_count": 39,
   "metadata": {},
   "outputs": [],
   "source": [
    "ca = certifi.where()"
   ]
  },
  {
   "cell_type": "code",
   "execution_count": 40,
   "metadata": {},
   "outputs": [],
   "source": [
    "class MongoDBClient:\n",
    "    \"\"\"\n",
    "    Class Name  : export_data_into_feature\n",
    "    Description : This method exports the dataframe from mongodb feature store as dataframe\n",
    "\n",
    "    Output  : connection to mongodb database\n",
    "    Onfailure   : Raises an exception\n",
    "    \"\"\"\n",
    "    client = None\n",
    "\n",
    "    def __init__(self, database_name=DATABASE_NAME) -> None:\n",
    "        try:\n",
    "            if MongoDBClient.client is None:\n",
    "                mongodb_url = os.getenv(MONGODB_URL_KEY)\n",
    "                if mongodb_url is None:\n",
    "                    logging.info(f\"Environment Key: {MONGODB_URL_KEY} is not set.\")\n",
    "                    raise Exception(f\"Environment Key: {MONGODB_URL_KEY} is not set.\")\n",
    "                MongoDBClient.client = pymongo.MongoClient(mongodb_url, tlsCAFile=ca)\n",
    "                logging.info(f\"mongoDB Connection client established: {MongoDBClient.client}\")\n",
    "            self.client = MongoDBClient.client\n",
    "            self.database = self.client[database_name]\n",
    "            self.database_name = database_name\n",
    "            logging.info(f\"client : {self.client}\")\n",
    "            logging.info(f\"database : {self.database}\")\n",
    "            logging.info(f\"database name : {self.database_name}\")\n",
    "\n",
    "        except Exception as e:\n",
    "            logging.info(VisaException(e, sys))\n",
    "            raise VisaException(e, sys)"
   ]
  },
  {
   "cell_type": "code",
   "execution_count": 41,
   "metadata": {},
   "outputs": [],
   "source": [
    "s = MongoDBClient()"
   ]
  },
  {
   "cell_type": "code",
   "execution_count": 42,
   "metadata": {},
   "outputs": [
    {
     "data": {
      "text/plain": [
       "MongoClient(host=['ac-xamrg5o-shard-00-01.z6sv9yb.mongodb.net:27017', 'ac-xamrg5o-shard-00-02.z6sv9yb.mongodb.net:27017', 'ac-xamrg5o-shard-00-00.z6sv9yb.mongodb.net:27017'], document_class=dict, tz_aware=False, connect=True, retrywrites=True, w='majority', authsource='admin', replicaset='atlas-bpmkt6-shard-0', tls=True, tlscafile='/config/workspace/visa-prediction/venv/lib/python3.8/site-packages/certifi/cacert.pem')"
      ]
     },
     "execution_count": 42,
     "metadata": {},
     "output_type": "execute_result"
    }
   ],
   "source": [
    "s.client"
   ]
  },
  {
   "cell_type": "code",
   "execution_count": 43,
   "metadata": {},
   "outputs": [
    {
     "data": {
      "text/plain": [
       "Database(MongoClient(host=['ac-xamrg5o-shard-00-01.z6sv9yb.mongodb.net:27017', 'ac-xamrg5o-shard-00-02.z6sv9yb.mongodb.net:27017', 'ac-xamrg5o-shard-00-00.z6sv9yb.mongodb.net:27017'], document_class=dict, tz_aware=False, connect=True, retrywrites=True, w='majority', authsource='admin', replicaset='atlas-bpmkt6-shard-0', tls=True, tlscafile='/config/workspace/visa-prediction/venv/lib/python3.8/site-packages/certifi/cacert.pem'), 'us_visa')"
      ]
     },
     "execution_count": 43,
     "metadata": {},
     "output_type": "execute_result"
    }
   ],
   "source": [
    "s.database"
   ]
  },
  {
   "cell_type": "code",
   "execution_count": 44,
   "metadata": {},
   "outputs": [
    {
     "data": {
      "text/plain": [
       "'us_visa'"
      ]
     },
     "execution_count": 44,
     "metadata": {},
     "output_type": "execute_result"
    }
   ],
   "source": [
    "s.database_name"
   ]
  },
  {
   "cell_type": "code",
   "execution_count": null,
   "metadata": {},
   "outputs": [],
   "source": []
  }
 ],
 "metadata": {
  "kernelspec": {
   "display_name": "Python 3.8.18 64-bit ('venv')",
   "language": "python",
   "name": "python3"
  },
  "language_info": {
   "codemirror_mode": {
    "name": "ipython",
    "version": 3
   },
   "file_extension": ".py",
   "mimetype": "text/x-python",
   "name": "python",
   "nbconvert_exporter": "python",
   "pygments_lexer": "ipython3",
   "version": "3.8.18"
  },
  "orig_nbformat": 4,
  "vscode": {
   "interpreter": {
    "hash": "58e38fb2720d0a647345ccca2910fcb56b0fc31360b6b887acc438dc9fb3c12b"
   }
  }
 },
 "nbformat": 4,
 "nbformat_minor": 2
}
