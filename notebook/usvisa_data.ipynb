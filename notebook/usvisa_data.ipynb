{
 "cells": [
  {
   "cell_type": "code",
   "execution_count": 1,
   "metadata": {},
   "outputs": [
    {
     "data": {
      "text/plain": [
       "'/config/workspace/visa-prediction/notebook'"
      ]
     },
     "execution_count": 1,
     "metadata": {},
     "output_type": "execute_result"
    }
   ],
   "source": [
    "%pwd"
   ]
  },
  {
   "cell_type": "code",
   "execution_count": 2,
   "metadata": {},
   "outputs": [],
   "source": [
    "os.chdir('../')"
   ]
  },
  {
   "cell_type": "code",
   "execution_count": 3,
   "metadata": {},
   "outputs": [
    {
     "data": {
      "text/plain": [
       "'/config/workspace/visa-prediction'"
      ]
     },
     "execution_count": 3,
     "metadata": {},
     "output_type": "execute_result"
    }
   ],
   "source": [
    "%pwd"
   ]
  },
  {
   "cell_type": "code",
   "execution_count": 4,
   "metadata": {},
   "outputs": [],
   "source": [
    "import os\n",
    "import sys\n",
    "\n",
    "from visa.logger import logging\n",
    "from visa.exception import VisaException"
   ]
  },
  {
   "cell_type": "code",
   "execution_count": 6,
   "metadata": {},
   "outputs": [],
   "source": [
    "from visa.configuration.mongo_db_connection import MongoDBClient\n",
    "from visa.constants import DATABASE_NAME, COLLECTION_NAME\n",
    "from typing import Optional\n",
    "import pandas as pd\n",
    "import numpy as np"
   ]
  },
  {
   "cell_type": "code",
   "execution_count": 12,
   "metadata": {},
   "outputs": [],
   "source": [
    "class USvisaData:\n",
    "    \"\"\"\n",
    "    Description : This class helps to export entire collection as pandas dataframe\n",
    "    \"\"\"\n",
    "\n",
    "    def __init__(self):\n",
    "        try:\n",
    "            self.mongo_client = MongoDBClient(database_name=DATABASE_NAME)\n",
    "        except Exception as e:\n",
    "            logging.info(VisaException(e, sys))\n",
    "            raise VisaException(e, sys)\n",
    "\n",
    "    def export_collection_as_datafrane(self, collection_name:str, database_name:Optional[str]=None) -> pd.DataFrame:\n",
    "        try:\n",
    "            if database_name is None:\n",
    "                collection = self.mongo_client.database[collection_name]\n",
    "            else:\n",
    "                collection = self.mongo_client[database_name][collection_name]\n",
    "            logging.info(f\"collection : {collection}\")\n",
    "\n",
    "            df = pd.DataFrame(list(collection.find()))\n",
    "\n",
    "            logging.info(f\"DataFrame shape: {df.shape}\")\n",
    "            logging.info(f\"Initial Columns List:: {df.columns}\")\n",
    "\n",
    "            if \"_id\" in df.columns.to_list():\n",
    "                df = df.drop(columns = [\"_id\"], axis=1)\n",
    "            logging.info(f\"Columns list after removing MongoDB unique ID(_id) : {df.columns.to_list()}\")\n",
    "\n",
    "            df.replace({\"na\":np.nan}, inplace=True)\n",
    "            return df\n",
    "        except Exception as e:\n",
    "            logging.info(VisaException(e, sys))\n",
    "            raise VisaException(e, sys)"
   ]
  },
  {
   "cell_type": "code",
   "execution_count": 14,
   "metadata": {},
   "outputs": [
    {
     "name": "stdout",
     "output_type": "stream",
     "text": [
      "(25480, 12)\n"
     ]
    }
   ],
   "source": [
    "from visa.constants import COLLECTION_NAME\n",
    "obj = USvisaData()\n",
    "df = obj.export_collection_as_datafrane(collection_name = COLLECTION_NAME)\n",
    "print(df.shape)"
   ]
  },
  {
   "cell_type": "code",
   "execution_count": null,
   "metadata": {},
   "outputs": [],
   "source": []
  }
 ],
 "metadata": {
  "kernelspec": {
   "display_name": "Python 3.8.18 64-bit ('venv')",
   "language": "python",
   "name": "python3"
  },
  "language_info": {
   "codemirror_mode": {
    "name": "ipython",
    "version": 3
   },
   "file_extension": ".py",
   "mimetype": "text/x-python",
   "name": "python",
   "nbconvert_exporter": "python",
   "pygments_lexer": "ipython3",
   "version": "3.8.18"
  },
  "orig_nbformat": 4,
  "vscode": {
   "interpreter": {
    "hash": "58e38fb2720d0a647345ccca2910fcb56b0fc31360b6b887acc438dc9fb3c12b"
   }
  }
 },
 "nbformat": 4,
 "nbformat_minor": 2
}
